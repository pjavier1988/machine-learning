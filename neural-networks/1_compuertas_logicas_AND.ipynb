{
  "nbformat": 4,
  "nbformat_minor": 0,
  "metadata": {
    "kernelspec": {
      "display_name": "Python 3",
      "language": "python",
      "name": "python3"
    },
    "language_info": {
      "codemirror_mode": {
        "name": "ipython",
        "version": 3
      },
      "file_extension": ".py",
      "mimetype": "text/x-python",
      "name": "python",
      "nbconvert_exporter": "python",
      "pygments_lexer": "ipython3",
      "version": "3.5.5"
    },
    "colab": {
      "name": "1_compuertas_logicas.ipynb",
      "provenance": [],
      "collapsed_sections": [],
      "include_colab_link": true
    }
  },
  "cells": [
    {
      "cell_type": "markdown",
      "metadata": {
        "id": "view-in-github",
        "colab_type": "text"
      },
      "source": [
        "<a href=\"https://colab.research.google.com/github/pjavier1988/machine-learning/blob/master/1_compuertas_logicas_AND.ipynb\" target=\"_parent\"><img src=\"https://colab.research.google.com/assets/colab-badge.svg\" alt=\"Open In Colab\"/></a>"
      ]
    },
    {
      "cell_type": "markdown",
      "metadata": {
        "id": "bqH79gsBKZZJ",
        "colab_type": "text"
      },
      "source": [
        "# Compuertas lógicas AND con TensorFlow "
      ]
    },
    {
      "cell_type": "markdown",
      "metadata": {
        "id": "VOoTb9lwKZZT",
        "colab_type": "text"
      },
      "source": [
        "$$f(x) = a\\cdot x$$"
      ]
    },
    {
      "cell_type": "markdown",
      "metadata": {
        "id": "sdWl7ljUSH7L",
        "colab_type": "text"
      },
      "source": [
        "El proceso a realizar consiste en determinar, ¿qué valor debe tomar $a$ para  $ f(x) = 35$ "
      ]
    },
    {
      "cell_type": "code",
      "metadata": {
        "id": "ngS9HFgWKZZb",
        "colab_type": "code",
        "colab": {
          "base_uri": "https://localhost:8080/",
          "height": 64
        },
        "outputId": "53a9f8c2-d207-4a1a-fdd7-c7bfb5f4873d"
      },
      "source": [
        "#Importamos la librería de tensorflow\n",
        "import tensorflow as tf"
      ],
      "execution_count": 1,
      "outputs": [
        {
          "output_type": "display_data",
          "data": {
            "text/html": [
              "<p style=\"color: red;\">\n",
              "The default version of TensorFlow in Colab will soon switch to TensorFlow 2.x.<br>\n",
              "We recommend you <a href=\"https://www.tensorflow.org/guide/migrate\" target=\"_blank\">upgrade</a> now \n",
              "or ensure your notebook will continue to use TensorFlow 1.x via the <code>%tensorflow_version 1.x</code> magic:\n",
              "<a href=\"https://colab.research.google.com/notebooks/tensorflow_version.ipynb\" target=\"_blank\">more info</a>.</p>\n"
            ],
            "text/plain": [
              "<IPython.core.display.HTML object>"
            ]
          },
          "metadata": {
            "tags": []
          }
        }
      ]
    },
    {
      "cell_type": "code",
      "metadata": {
        "id": "QaLsmr9pKZZy",
        "colab_type": "code",
        "colab": {}
      },
      "source": [
        "#Iniciamos una sesión de TensorFlow\n",
        "session = tf.Session()"
      ],
      "execution_count": 0,
      "outputs": []
    },
    {
      "cell_type": "markdown",
      "metadata": {
        "id": "RqanGppRSDXS",
        "colab_type": "text"
      },
      "source": [
        ""
      ]
    },
    {
      "cell_type": "code",
      "metadata": {
        "id": "lMzqcc-OKZaB",
        "colab_type": "code",
        "colab": {}
      },
      "source": [
        "#Definimos las variables y placeholder necesarias para realizar el cálculo \n",
        "a = tf.Variable(tf.constant(3.5))\n",
        "x_val = 5.0\n",
        "#Recibirá los valores que sean ingresados a través del bucle For\n",
        "x_data =tf.placeholder(dtype=tf.float32)"
      ],
      "execution_count": 0,
      "outputs": []
    },
    {
      "cell_type": "markdown",
      "metadata": {
        "id": "6PekAKFPThOF",
        "colab_type": "text"
      },
      "source": [
        "Modelamos la multiplicación"
      ]
    },
    {
      "cell_type": "code",
      "metadata": {
        "id": "_1c-4hXTKZaP",
        "colab_type": "code",
        "colab": {}
      },
      "source": [
        "multiplication = tf.multiply(a,x_data)"
      ],
      "execution_count": 0,
      "outputs": []
    },
    {
      "cell_type": "markdown",
      "metadata": {
        "id": "uMcOjFehKZac",
        "colab_type": "text"
      },
      "source": [
        "$$perdida = (a\\cdot x - valoresperado)^2$$\n",
        "donde $valoresperado = 35$"
      ]
    },
    {
      "cell_type": "markdown",
      "metadata": {
        "id": "TSWVIu62UE0t",
        "colab_type": "text"
      },
      "source": [
        "Implementamos diferencia de cuadrados\n",
        "$$(multiplicacion - 35)^2 $$"
      ]
    },
    {
      "cell_type": "code",
      "metadata": {
        "id": "skF_hAVoKZag",
        "colab_type": "code",
        "colab": {}
      },
      "source": [
        "perdida = tf.square(tf.subtract(multiplication, 35.0))"
      ],
      "execution_count": 0,
      "outputs": []
    },
    {
      "cell_type": "code",
      "metadata": {
        "id": "aMinqZLRKZas",
        "colab_type": "code",
        "colab": {}
      },
      "source": [
        "init = tf.global_variables_initializer()\n",
        "session.run(init)"
      ],
      "execution_count": 0,
      "outputs": []
    },
    {
      "cell_type": "code",
      "metadata": {
        "id": "MLCgu0hxKZa2",
        "colab_type": "code",
        "colab": {}
      },
      "source": [
        "#tasa de aprendizaje para la función de optimización\n",
        "learning_rate = 0.01\n",
        "#Utilizamos el método de la gradiente descendente\n",
        "fx_optim = tf.train.GradientDescentOptimizer(learning_rate)\n",
        "#minimizamos el error y entrenamos al modelo\n",
        "train_step = fx_optim.minimize(perdida)"
      ],
      "execution_count": 0,
      "outputs": []
    },
    {
      "cell_type": "code",
      "metadata": {
        "id": "AVH7OMXeKZbD",
        "colab_type": "code",
        "outputId": "9e44d92d-c810-4106-acc8-5c8afa25c0ce",
        "colab": {
          "base_uri": "https://localhost:8080/",
          "height": 382
        }
      },
      "source": [
        "print(\"Optimización del valor de a para conseguir a*3.5 = 35\")\n",
        "#cuántas veces iterará\n",
        "epochs =20\n",
        "for i in range(epochs):\n",
        "    #Realizamos los cálculos necesarios y definimos los parámetros de inicialización del modelo\n",
        "    session.run(train_step, feed_dict={x_data: x_val})\n",
        "    a_val = session.run(a)\n",
        "    mult_out = session.run(multiplication, feed_dict={x_data:x_val})\n",
        "    print(str(a_val)+\" x \"+str(x_val)+\" = \"+str(mult_out))"
      ],
      "execution_count": 8,
      "outputs": [
        {
          "output_type": "stream",
          "text": [
            "Optimización del valor de a para conseguir a*3.5 = 35\n",
            "5.25 x 5.0 = 26.25\n",
            "6.125 x 5.0 = 30.625\n",
            "6.5625 x 5.0 = 32.8125\n",
            "6.78125 x 5.0 = 33.90625\n",
            "6.890625 x 5.0 = 34.453125\n",
            "6.9453125 x 5.0 = 34.726562\n",
            "6.9726562 x 5.0 = 34.86328\n",
            "6.986328 x 5.0 = 34.93164\n",
            "6.993164 x 5.0 = 34.96582\n",
            "6.996582 x 5.0 = 34.98291\n",
            "6.998291 x 5.0 = 34.991455\n",
            "6.9991455 x 5.0 = 34.995728\n",
            "6.9995728 x 5.0 = 34.997864\n",
            "6.9997864 x 5.0 = 34.99893\n",
            "6.999893 x 5.0 = 34.999466\n",
            "6.9999466 x 5.0 = 34.999733\n",
            "6.9999733 x 5.0 = 34.999866\n",
            "6.9999866 x 5.0 = 34.99993\n",
            "6.9999933 x 5.0 = 34.999966\n",
            "6.9999967 x 5.0 = 34.999985\n"
          ],
          "name": "stdout"
        }
      ]
    }
  ]
}
