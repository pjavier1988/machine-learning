{
  "nbformat": 4,
  "nbformat_minor": 0,
  "metadata": {
    "kernelspec": {
      "display_name": "Python 3",
      "language": "python",
      "name": "python3"
    },
    "language_info": {
      "codemirror_mode": {
        "name": "ipython",
        "version": 3
      },
      "file_extension": ".py",
      "mimetype": "text/x-python",
      "name": "python",
      "nbconvert_exporter": "python",
      "pygments_lexer": "ipython3",
      "version": "3.5.5"
    },
    "colab": {
      "name": "1_compuertas_logicas.ipynb",
      "provenance": [],
      "include_colab_link": true
    }
  },
  "cells": [
    {
      "cell_type": "markdown",
      "metadata": {
        "id": "view-in-github",
        "colab_type": "text"
      },
      "source": [
        "<a href=\"https://colab.research.google.com/github/pjavier1988/machine-learning/blob/master/1_compuertas_logicas.ipynb\" target=\"_parent\"><img src=\"https://colab.research.google.com/assets/colab-badge.svg\" alt=\"Open In Colab\"/></a>"
      ]
    },
    {
      "cell_type": "markdown",
      "metadata": {
        "id": "bqH79gsBKZZJ",
        "colab_type": "text"
      },
      "source": [
        "# Compuertas lógicas con TensorFlow"
      ]
    },
    {
      "cell_type": "markdown",
      "metadata": {
        "id": "VOoTb9lwKZZT",
        "colab_type": "text"
      },
      "source": [
        "$$f(x) = a\\cdot x$$"
      ]
    },
    {
      "cell_type": "code",
      "metadata": {
        "id": "ngS9HFgWKZZb",
        "colab_type": "code",
        "colab": {}
      },
      "source": [
        "import tensorflow as tf"
      ],
      "execution_count": 0,
      "outputs": []
    },
    {
      "cell_type": "code",
      "metadata": {
        "id": "QaLsmr9pKZZy",
        "colab_type": "code",
        "colab": {}
      },
      "source": [
        "session = tf.Session()"
      ],
      "execution_count": 0,
      "outputs": []
    },
    {
      "cell_type": "code",
      "metadata": {
        "id": "lMzqcc-OKZaB",
        "colab_type": "code",
        "colab": {}
      },
      "source": [
        "a = tf.Variable(tf.constant(3.5))\n",
        "x_val = 5.0\n",
        "x_data =tf.placeholder(dtype=tf.float32)"
      ],
      "execution_count": 0,
      "outputs": []
    },
    {
      "cell_type": "code",
      "metadata": {
        "id": "_1c-4hXTKZaP",
        "colab_type": "code",
        "colab": {}
      },
      "source": [
        "multiplication = tf.multiply(a,x_data)"
      ],
      "execution_count": 0,
      "outputs": []
    },
    {
      "cell_type": "markdown",
      "metadata": {
        "id": "uMcOjFehKZac",
        "colab_type": "text"
      },
      "source": [
        "$$loss = (a\\cdot x - target)^2$$"
      ]
    },
    {
      "cell_type": "code",
      "metadata": {
        "id": "skF_hAVoKZag",
        "colab_type": "code",
        "colab": {}
      },
      "source": [
        "loss = tf.square(tf.subtract(multiplication, 50.0))## L2"
      ],
      "execution_count": 0,
      "outputs": []
    },
    {
      "cell_type": "code",
      "metadata": {
        "id": "aMinqZLRKZas",
        "colab_type": "code",
        "colab": {}
      },
      "source": [
        "init = tf.global_variables_initializer()\n",
        "session.run(init)"
      ],
      "execution_count": 0,
      "outputs": []
    },
    {
      "cell_type": "code",
      "metadata": {
        "id": "MLCgu0hxKZa2",
        "colab_type": "code",
        "colab": {}
      },
      "source": [
        "my_optim = tf.train.GradientDescentOptimizer(0.01)\n",
        "train_step = my_optim.minimize(loss)"
      ],
      "execution_count": 0,
      "outputs": []
    },
    {
      "cell_type": "code",
      "metadata": {
        "id": "AVH7OMXeKZbD",
        "colab_type": "code",
        "outputId": "35a863ce-1c2a-4a0a-c046-af6044d752dd",
        "colab": {}
      },
      "source": [
        "print(\"Optimización del valor de a para conseguir a*5 = 50\")\n",
        "for i in range(10):\n",
        "    session.run(train_step, feed_dict={x_data: x_val})\n",
        "    a_val = session.run(a)\n",
        "    mult_out = session.run(multiplication, feed_dict={x_data:x_val})\n",
        "    print(str(a_val)+\" x \"+str(x_val)+\" = \"+str(mult_out))"
      ],
      "execution_count": 0,
      "outputs": [
        {
          "output_type": "stream",
          "text": [
            "Optimización del valor de a para conseguir a*5 = 50\n",
            "8.5x5.0=42.5\n",
            "9.25x5.0=46.25\n",
            "9.625x5.0=48.125\n",
            "9.8125x5.0=49.0625\n",
            "9.90625x5.0=49.53125\n",
            "9.953125x5.0=49.765625\n",
            "9.9765625x5.0=49.882812\n",
            "9.988281x5.0=49.941406\n",
            "9.994141x5.0=49.970703\n",
            "9.99707x5.0=49.98535\n"
          ],
          "name": "stdout"
        }
      ]
    },
    {
      "cell_type": "markdown",
      "metadata": {
        "id": "BPw4PGjTKZbQ",
        "colab_type": "text"
      },
      "source": [
        "$$f(x) = a\\cdot x + b $$"
      ]
    },
    {
      "cell_type": "markdown",
      "metadata": {
        "id": "xWW3XgjKKZbT",
        "colab_type": "text"
      },
      "source": [
        "¿Qué tiene que valer $a$ y $b$ para que $f(5) = 50.0$?"
      ]
    },
    {
      "cell_type": "code",
      "metadata": {
        "id": "aYuSrRZlKZbW",
        "colab_type": "code",
        "colab": {}
      },
      "source": [
        "from tensorflow.python.framework import ops \n",
        "ops.reset_default_graph()"
      ],
      "execution_count": 0,
      "outputs": []
    },
    {
      "cell_type": "code",
      "metadata": {
        "id": "3uQOhMs1KZbj",
        "colab_type": "code",
        "colab": {}
      },
      "source": [
        "session = tf.Session()"
      ],
      "execution_count": 0,
      "outputs": []
    },
    {
      "cell_type": "code",
      "metadata": {
        "id": "VhlhJsnHKZbr",
        "colab_type": "code",
        "colab": {}
      },
      "source": [
        "a = tf.Variable(tf.constant(5.0))\n",
        "b = tf.Variable(tf.constant(5.0))\n",
        "x_val = 5.0\n",
        "x_data = tf.placeholder(dtype = tf.float32)"
      ],
      "execution_count": 0,
      "outputs": []
    },
    {
      "cell_type": "code",
      "metadata": {
        "id": "UcrRcnOIKZb3",
        "colab_type": "code",
        "colab": {}
      },
      "source": [
        "mult_add = tf.add(tf.multiply(a, x_data), b)"
      ],
      "execution_count": 0,
      "outputs": []
    },
    {
      "cell_type": "code",
      "metadata": {
        "id": "9nk1LOkFKZcI",
        "colab_type": "code",
        "colab": {}
      },
      "source": [
        "loss = tf.square(tf.subtract(mult_add, 50.0))"
      ],
      "execution_count": 0,
      "outputs": []
    },
    {
      "cell_type": "code",
      "metadata": {
        "id": "_nLTI6lYKZcS",
        "colab_type": "code",
        "colab": {}
      },
      "source": [
        "my_optim = tf.train.GradientDescentOptimizer(0.01)\n",
        "train_step = my_optim.minimize(loss)"
      ],
      "execution_count": 0,
      "outputs": []
    },
    {
      "cell_type": "code",
      "metadata": {
        "id": "qvhNNdPtKZcZ",
        "colab_type": "code",
        "colab": {}
      },
      "source": [
        "init = tf.global_variables_initializer()\n",
        "session.run(init)"
      ],
      "execution_count": 0,
      "outputs": []
    },
    {
      "cell_type": "code",
      "metadata": {
        "id": "cOdn6SeLKZch",
        "colab_type": "code",
        "outputId": "a867094f-c78c-4274-bc62-c57b77f59f06",
        "colab": {}
      },
      "source": [
        "for i in range(15):\n",
        "    session.run(train_step, feed_dict={x_data : x_val})\n",
        "    a_val, b_val = (session.run(a), session.run(b))\n",
        "    result = session.run(mult_add, feed_dict={x_data:x_val})\n",
        "    print(str(a_val)+\" x \"+str(x_val)+\" + \"+str(b_val)+ \" = \"+str(result))"
      ],
      "execution_count": 0,
      "outputs": [
        {
          "output_type": "stream",
          "text": [
            "7.0 x 5.0 + 5.4 = 40.4\n",
            "7.96 x 5.0 + 5.592 = 45.392\n",
            "8.4208 x 5.0 + 5.68416 = 47.788162\n",
            "8.641984 x 5.0 + 5.728397 = 48.938316\n",
            "8.748153 x 5.0 + 5.7496305 = 49.490395\n",
            "8.799113 x 5.0 + 5.7598224 = 49.75539\n",
            "8.823574 x 5.0 + 5.7647147 = 49.882584\n",
            "8.835316 x 5.0 + 5.767063 = 49.94364\n",
            "8.840952 x 5.0 + 5.7681904 = 49.972946\n",
            "8.8436575 x 5.0 + 5.7687316 = 49.98702\n",
            "8.844955 x 5.0 + 5.768991 = 49.993767\n",
            "8.845579 x 5.0 + 5.7691154 = 49.997013\n",
            "8.845878 x 5.0 + 5.769175 = 49.998566\n",
            "8.846021 x 5.0 + 5.7692037 = 49.999306\n",
            "8.84609 x 5.0 + 5.7692175 = 49.999672\n"
          ],
          "name": "stdout"
        }
      ]
    },
    {
      "cell_type": "code",
      "metadata": {
        "id": "5ceASuSPKZcr",
        "colab_type": "code",
        "colab": {}
      },
      "source": [
        ""
      ],
      "execution_count": 0,
      "outputs": []
    }
  ]
}